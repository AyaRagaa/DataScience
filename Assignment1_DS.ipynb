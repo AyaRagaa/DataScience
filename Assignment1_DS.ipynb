{
 "cells": [
  {
   "cell_type": "code",
   "execution_count": 1,
   "id": "44022afb",
   "metadata": {},
   "outputs": [],
   "source": [
    "import numpy as np"
   ]
  },
  {
   "cell_type": "markdown",
   "id": "55145d65",
   "metadata": {},
   "source": [
    "### 1. Write a NumPy program to test whether none of the elements of a given array is zero."
   ]
  },
  {
   "cell_type": "code",
   "execution_count": 5,
   "id": "c2f97682",
   "metadata": {},
   "outputs": [
    {
     "name": "stdout",
     "output_type": "stream",
     "text": [
      "Does Array -->  [1 2 3 4] doesn't contain any zero element :  True\n",
      "Does Array -->  [0 1 2 3] doesn't contain any zero element :  False\n"
     ]
    }
   ],
   "source": [
    "def is_none_of_the_elements_is_zero(arr):\n",
    "    zeros = arr[arr == 0]\n",
    "    return len(zeros) == 0\n",
    "\n",
    "arr1 = np.array([1,2,3,4])\n",
    "arr2 = np.array([0,1,2,3])\n",
    "\n",
    "print(\"Does Array --> \", arr1 , \"doesn't contain any zero element : \" , is_none_of_the_elements_is_zero(arr1))\n",
    "print(\"Does Array --> \", arr2 , \"doesn't contain any zero element : \" , is_none_of_the_elements_is_zero(arr2))\n"
   ]
  },
  {
   "cell_type": "markdown",
   "id": "3a042894",
   "metadata": {},
   "source": [
    "### 2. Write a NumPy program to test whether any of the elements of a given array is non-zero."
   ]
  },
  {
   "cell_type": "code",
   "execution_count": 9,
   "id": "1e6aa73a",
   "metadata": {},
   "outputs": [
    {
     "name": "stdout",
     "output_type": "stream",
     "text": [
      "Is there is any non zero element is array -->  [0 0 0 0]  :  False\n",
      "Is there is any non zero element is array -->  [1 0 3 0]  :  True\n"
     ]
    }
   ],
   "source": [
    "def any_element_nonzero(arr):\n",
    "    zeros = arr[arr == 0]\n",
    "    return not(len(zeros) == len(arr))\n",
    "\n",
    "arr1 = np.array([0, 0, 0, 0])\n",
    "arr2 = np.array([1, 0, 3, 0])\n",
    "\n",
    "print(\"Is there is any non zero element is array --> \", arr1 , \" : \", any_element_nonzero(arr1))\n",
    "print(\"Is there is any non zero element is array --> \", arr2 , \" : \" ,any_element_nonzero(arr2))\n"
   ]
  },
  {
   "cell_type": "markdown",
   "id": "4748549e",
   "metadata": {},
   "source": [
    "### 3. Write a NumPy program to create an element-wise comparison (equal, equal within a tolerance) of two given"
   ]
  },
  {
   "cell_type": "code",
   "execution_count": 20,
   "id": "4919dc28",
   "metadata": {},
   "outputs": [
    {
     "name": "stdout",
     "output_type": "stream",
     "text": [
      "[1. 2. 3.] , [1.      2.00001 3.     ] are element-wise equal within tolerance ( 1e-05 )  : True\n",
      "[1. 2. 3.] , [1.  2.1 3. ] \t       are element-wise equal within tolerance ( 1e-05 )  : False\n"
     ]
    }
   ],
   "source": [
    "def element_wise_comparison_with_tolerance(arr1, arr2, tol=0.00001):\n",
    "    return np.allclose(arr1, arr2, atol=tol)\n",
    "\n",
    "tol=0.00001\n",
    "\n",
    "arr1 = np.array([1.0, 2.0, 3.0])\n",
    "arr2 = np.array([1.0, 2.00001, 3.0])\n",
    "\n",
    "print(arr1,\",\" , arr2 ,\"are element-wise equal within tolerance\" , \"(\",tol, \") \", \":\", element_wise_comparison_with_tolerance(arr1, arr2))\n",
    "\n",
    "arr3 = np.array([1.0, 2.0, 3.0])\n",
    "arr4 = np.array([1.0, 2.1, 3.0])\n",
    "\n",
    "print(arr3,\",\" , arr4 ,\"\\t       are element-wise equal within tolerance\", \"(\",tol, \") \", \":\", element_wise_comparison_with_tolerance(arr3, arr4))\n"
   ]
  },
  {
   "cell_type": "markdown",
   "id": "7b2ce6ff",
   "metadata": {},
   "source": [
    "### 4. Write a NumPy program to create an array of 10 zeros,10 ones, 10 fives."
   ]
  },
  {
   "cell_type": "code",
   "execution_count": 25,
   "id": "442b0d04",
   "metadata": {},
   "outputs": [
    {
     "data": {
      "text/plain": [
       "array([[0, 0, 0, 0, 0, 0, 0, 0, 0, 0, 1, 1, 1, 1, 1, 1, 1, 1, 1, 1, 5, 5,\n",
       "        5, 5, 5, 5, 5, 5, 5, 5]])"
      ]
     },
     "execution_count": 25,
     "metadata": {},
     "output_type": "execute_result"
    }
   ],
   "source": [
    "def create_array():\n",
    "    zeros = np.zeros((1,10) , dtype = int)\n",
    "    ones = np.ones((1,10) , dtype = int)\n",
    "    fives = np.ones((1,10) , dtype = int) * 5\n",
    "    arr = np.hstack((zeros,ones))\n",
    "    arr = np.hstack((arr,fives))\n",
    "    return arr\n",
    "\n",
    "arr = create_array()\n",
    "arr"
   ]
  },
  {
   "cell_type": "markdown",
   "id": "69ed4da1",
   "metadata": {},
   "source": [
    "### 5. Write a NumPy program to create an array of the integers from 30 to70."
   ]
  },
  {
   "cell_type": "code",
   "execution_count": 26,
   "id": "64811450",
   "metadata": {},
   "outputs": [
    {
     "data": {
      "text/plain": [
       "array([30, 31, 32, 33, 34, 35, 36, 37, 38, 39, 40, 41, 42, 43, 44, 45, 46,\n",
       "       47, 48, 49, 50, 51, 52, 53, 54, 55, 56, 57, 58, 59, 60, 61, 62, 63,\n",
       "       64, 65, 66, 67, 68, 69, 70])"
      ]
     },
     "execution_count": 26,
     "metadata": {},
     "output_type": "execute_result"
    }
   ],
   "source": [
    "arr = np.arange(30,71)\n",
    "arr"
   ]
  },
  {
   "cell_type": "markdown",
   "id": "03c98974",
   "metadata": {},
   "source": [
    "### 6. Write a NumPy program to create a 3x3 identity matrix"
   ]
  },
  {
   "cell_type": "code",
   "execution_count": 28,
   "id": "bfdb7abc",
   "metadata": {},
   "outputs": [
    {
     "data": {
      "text/plain": [
       "array([[1., 0., 0.],\n",
       "       [0., 1., 0.],\n",
       "       [0., 0., 1.]])"
      ]
     },
     "execution_count": 28,
     "metadata": {},
     "output_type": "execute_result"
    }
   ],
   "source": [
    "mat = np.zeros((3,3))\n",
    "for i in range(mat.shape[0]):\n",
    "    for j in range(mat.shape[1]):\n",
    "        if i == j:\n",
    "            mat[i][j] = 1\n",
    "mat"
   ]
  },
  {
   "cell_type": "markdown",
   "id": "b8732bda",
   "metadata": {},
   "source": [
    "Or"
   ]
  },
  {
   "cell_type": "code",
   "execution_count": 29,
   "id": "a3184995",
   "metadata": {},
   "outputs": [
    {
     "data": {
      "text/plain": [
       "array([[1., 0., 0.],\n",
       "       [0., 1., 0.],\n",
       "       [0., 0., 1.]])"
      ]
     },
     "execution_count": 29,
     "metadata": {},
     "output_type": "execute_result"
    }
   ],
   "source": [
    "identity_matrix = np.eye(3)\n",
    "identity_matrix"
   ]
  },
  {
   "cell_type": "markdown",
   "id": "f0035c80",
   "metadata": {},
   "source": [
    "### 7. Write a NumPy program to generate a random number between 0 and 1"
   ]
  },
  {
   "cell_type": "code",
   "execution_count": 30,
   "id": "9b7f2aa9",
   "metadata": {},
   "outputs": [
    {
     "data": {
      "text/plain": [
       "0.3045729295177261"
      ]
     },
     "execution_count": 30,
     "metadata": {},
     "output_type": "execute_result"
    }
   ],
   "source": [
    "rand = np.random.random()\n",
    "rand"
   ]
  },
  {
   "cell_type": "markdown",
   "id": "b9fe728c",
   "metadata": {},
   "source": [
    "### 8. Write a NumPy program to generate an array of 15 random numbers from a standard normal distribution"
   ]
  },
  {
   "cell_type": "code",
   "execution_count": 31,
   "id": "82148ea7",
   "metadata": {},
   "outputs": [
    {
     "data": {
      "text/plain": [
       "array([-1.255249  ,  2.04313523, -2.26117912, -0.4363762 ,  0.78576113,\n",
       "       -0.15648489,  0.8421013 ,  1.14946978,  0.70189374, -1.58610508,\n",
       "        1.24334354, -1.1730376 ,  0.26421568, -0.75211385,  0.63062199])"
      ]
     },
     "execution_count": 31,
     "metadata": {},
     "output_type": "execute_result"
    }
   ],
   "source": [
    "rand = np.random.normal(size=15)\n",
    "rand"
   ]
  },
  {
   "cell_type": "markdown",
   "id": "f55f1882",
   "metadata": {},
   "source": [
    "### 9. Write a NumPy program to create a vector with values ranging from 15 to 55 and print all values except the first and last."
   ]
  },
  {
   "cell_type": "code",
   "execution_count": 34,
   "id": "3f888933",
   "metadata": {},
   "outputs": [
    {
     "data": {
      "text/plain": [
       "array([16, 17, 18, 19, 20, 21, 22, 23, 24, 25, 26, 27, 28, 29, 30, 31, 32,\n",
       "       33, 34, 35, 36, 37, 38, 39, 40, 41, 42, 43, 44, 45, 46, 47, 48, 49,\n",
       "       50, 51, 52, 53, 54])"
      ]
     },
     "execution_count": 34,
     "metadata": {},
     "output_type": "execute_result"
    }
   ],
   "source": [
    "arr = np.arange(15,56)\n",
    "arr[1:-1]"
   ]
  },
  {
   "cell_type": "markdown",
   "id": "cb913070",
   "metadata": {},
   "source": [
    "### 10. Write a NumPy program to create a vector of length 5 filled with arbitrary integers from 0 to 10"
   ]
  },
  {
   "cell_type": "code",
   "execution_count": 35,
   "id": "07ef5cc9",
   "metadata": {},
   "outputs": [
    {
     "data": {
      "text/plain": [
       "array([9, 5, 9, 1, 1])"
      ]
     },
     "execution_count": 35,
     "metadata": {},
     "output_type": "execute_result"
    }
   ],
   "source": [
    "arr = np.random.randint(0, 11, size=5)\n",
    "arr"
   ]
  },
  {
   "cell_type": "markdown",
   "id": "42774a77",
   "metadata": {},
   "source": [
    "### 11. Write a NumPy program to create a 10x10 matrix, in which the elements on the borders will be equal to 1, and inside 0."
   ]
  },
  {
   "cell_type": "code",
   "execution_count": 38,
   "id": "a6c5d4b2",
   "metadata": {},
   "outputs": [
    {
     "data": {
      "text/plain": [
       "array([[1, 1, 1, 1, 1, 1, 1, 1, 1, 1],\n",
       "       [1, 0, 0, 0, 0, 0, 0, 0, 0, 1],\n",
       "       [1, 0, 0, 0, 0, 0, 0, 0, 0, 1],\n",
       "       [1, 0, 0, 0, 0, 0, 0, 0, 0, 1],\n",
       "       [1, 0, 0, 0, 0, 0, 0, 0, 0, 1],\n",
       "       [1, 0, 0, 0, 0, 0, 0, 0, 0, 1],\n",
       "       [1, 0, 0, 0, 0, 0, 0, 0, 0, 1],\n",
       "       [1, 0, 0, 0, 0, 0, 0, 0, 0, 1],\n",
       "       [1, 0, 0, 0, 0, 0, 0, 0, 0, 1],\n",
       "       [1, 1, 1, 1, 1, 1, 1, 1, 1, 1]])"
      ]
     },
     "execution_count": 38,
     "metadata": {},
     "output_type": "execute_result"
    }
   ],
   "source": [
    "arr = np.ones((10,10) , dtype = int)\n",
    "arr[1:-1 , 1:-1] = np.zeros((8,8), dtype = int)\n",
    "arr"
   ]
  },
  {
   "cell_type": "markdown",
   "id": "493bb8e3",
   "metadata": {},
   "source": [
    "### 12. Write a NumPy program to create a 5x5 zero matrix with elements on the main diagonal equal to 1, 2,3, 4, 5."
   ]
  },
  {
   "cell_type": "code",
   "execution_count": 39,
   "id": "13891fe6",
   "metadata": {},
   "outputs": [
    {
     "data": {
      "text/plain": [
       "array([[1, 0, 0, 0, 0],\n",
       "       [0, 2, 0, 0, 0],\n",
       "       [0, 0, 3, 0, 0],\n",
       "       [0, 0, 0, 4, 0],\n",
       "       [0, 0, 0, 0, 5]])"
      ]
     },
     "execution_count": 39,
     "metadata": {},
     "output_type": "execute_result"
    }
   ],
   "source": [
    "arr = np.zeros((5,5) , dtype = int)\n",
    "np.fill_diagonal(arr, [1, 2, 3, 4, 5])\n",
    "arr\n"
   ]
  },
  {
   "cell_type": "markdown",
   "id": "565b44a5",
   "metadata": {},
   "source": [
    "### 13. Write a NumPy program to create a 4x4 matrix in which 0 and 1 are staggered, with zeros on the main diagonal.\n"
   ]
  },
  {
   "cell_type": "code",
   "execution_count": 41,
   "id": "1a5846fa",
   "metadata": {},
   "outputs": [
    {
     "data": {
      "text/plain": [
       "array([[0., 1., 0., 1.],\n",
       "       [1., 0., 1., 0.],\n",
       "       [0., 1., 0., 1.],\n",
       "       [1., 0., 1., 0.]])"
      ]
     },
     "execution_count": 41,
     "metadata": {},
     "output_type": "execute_result"
    }
   ],
   "source": [
    "arr = np.zeros((4, 4))\n",
    "\n",
    "for i in range(arr.shape[0]):\n",
    "    for j in range(arr.shape[0]):\n",
    "        if (i + j) % 2 != 0: \n",
    "            arr[i, j] = 1\n",
    "\n",
    "arr\n"
   ]
  },
  {
   "cell_type": "markdown",
   "id": "ab102c6b",
   "metadata": {},
   "source": [
    "### 14. Write a NumPy program to save two given arrays into a single file in compressed format (.npz for"
   ]
  },
  {
   "cell_type": "code",
   "execution_count": 42,
   "id": "2e69488e",
   "metadata": {},
   "outputs": [],
   "source": [
    "arr1 = np.array([1, 2, 3, 4])\n",
    "arr1 = np.array([5, 6, 7, 8])\n",
    "\n",
    "np.savez_compressed('arrays.npz', array1=arr1, array2=arr2)"
   ]
  },
  {
   "cell_type": "markdown",
   "id": "4c95ad18",
   "metadata": {},
   "source": [
    "### 15. Write a NumPy program to create a one-dimensional array of forty pseudo-randomly generated values."
   ]
  },
  {
   "cell_type": "code",
   "execution_count": 43,
   "id": "8bc3b0b2",
   "metadata": {},
   "outputs": [
    {
     "data": {
      "text/plain": [
       "array([0.51123707, 0.85892241, 0.5869985 , 0.45781141, 0.59062832,\n",
       "       0.51468303, 0.47792487, 0.35531777, 0.39747028, 0.6339114 ,\n",
       "       0.04115014, 0.85810823, 0.21509868, 0.17483393, 0.30769515,\n",
       "       0.75765504, 0.20709488, 0.32909936, 0.17360502, 0.14880253,\n",
       "       0.95671541, 0.11276774, 0.78280223, 0.61354963, 0.23129961,\n",
       "       0.25547004, 0.20310256, 0.01097945, 0.23820576, 0.90399303,\n",
       "       0.01296419, 0.16591904, 0.73304232, 0.40714165, 0.00820462,\n",
       "       0.07786394, 0.49561266, 0.16643426, 0.44724025, 0.02562876])"
      ]
     },
     "execution_count": 43,
     "metadata": {},
     "output_type": "execute_result"
    }
   ],
   "source": [
    "rand = np.random.rand(40)\n",
    "rand"
   ]
  },
  {
   "cell_type": "markdown",
   "id": "42a38bfb",
   "metadata": {},
   "source": [
    "### 16. Write a NumPy program to extract all numbers from a given array which are less and greater than a specified number."
   ]
  },
  {
   "cell_type": "code",
   "execution_count": 44,
   "id": "96fa6b6c",
   "metadata": {},
   "outputs": [
    {
     "name": "stdout",
     "output_type": "stream",
     "text": [
      "Numbers less than 3 : [1 2]\n",
      "Numbers greater than 3 : [4 5]\n"
     ]
    }
   ],
   "source": [
    "def extract_numbers(arr, threshold):\n",
    "\n",
    "    less_than = arr[arr < threshold]\n",
    "    greater_than = arr[arr > threshold]\n",
    "    \n",
    "    return less_than, greater_than\n",
    "\n",
    "\n",
    "arr = np.array([1, 2, 3, 4, 5])\n",
    "less_than, greater_than = extract_numbers(arr, 3)\n",
    "\n",
    "print(\"Numbers less than\", 3, \":\", less_than)\n",
    "print(\"Numbers greater than\", 3, \":\", greater_than)\n"
   ]
  }
 ],
 "metadata": {
  "kernelspec": {
   "display_name": "Python 3 (ipykernel)",
   "language": "python",
   "name": "python3"
  },
  "language_info": {
   "codemirror_mode": {
    "name": "ipython",
    "version": 3
   },
   "file_extension": ".py",
   "mimetype": "text/x-python",
   "name": "python",
   "nbconvert_exporter": "python",
   "pygments_lexer": "ipython3",
   "version": "3.11.2"
  }
 },
 "nbformat": 4,
 "nbformat_minor": 5
}
